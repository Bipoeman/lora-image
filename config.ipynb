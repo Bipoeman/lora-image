{
 "cells": [
  {
   "cell_type": "code",
   "execution_count": null,
   "metadata": {},
   "outputs": [],
   "source": [
    "COM = \"COM7\""
   ]
  },
  {
   "cell_type": "markdown",
   "metadata": {},
   "source": [
    "## Get Config"
   ]
  },
  {
   "cell_type": "code",
   "execution_count": 61,
   "metadata": {},
   "outputs": [
    {
     "name": "stdout",
     "output_type": "stream",
     "text": [
      "b'\\x00\\x00\\x1d\\x17@'\n",
      "64\n",
      "Address : 0\n",
      "Parity : 8N1\n",
      "UART Baud : 9600\n",
      "Air Baud : 19.2k\n",
      "Channel 23, 433MHz\n",
      "Power 20dBm\n"
     ]
    }
   ],
   "source": [
    "from serial import *\n",
    "\n",
    "try:\n",
    "    ser = Serial(COM,timeout=1)\n",
    "except:\n",
    "    ser.close()\n",
    "    ser = Serial(COM,timeout=1)\n",
    "    print(\"Port Not Open\")\n",
    "\n",
    "data = 0xC1C1C1.to_bytes(3,byteorder=\"big\")\n",
    "# print(data)\n",
    "ser.write(data)\n",
    "data = b''\n",
    "while True:\n",
    "    read = ser.read()\n",
    "    if (read):\n",
    "        data += read\n",
    "        \n",
    "    else:\n",
    "        break\n",
    "data = data[1:]\n",
    "print(data)\n",
    "address = int.from_bytes(data[0:2],byteorder=\"big\")\n",
    "speed = int.from_bytes(data[2:3],byteorder=\"big\")\n",
    "chan = int.from_bytes(data[3:4],byteorder=\"big\")\n",
    "option = int.from_bytes(data[4:5],byteorder=\"big\")\n",
    "air_speed = speed & 7\n",
    "baud_rate = (speed >> 3) & 7\n",
    "cs = (speed >> 5) & 3\n",
    "speedData = {\n",
    "    \"PARITY\" : {\n",
    "        \"0\":\"8N1\",\n",
    "        \"1\":\"8O1\",\n",
    "        \"2\":\"8E1\",\n",
    "        \"3\":\"8N1\"\n",
    "    },\n",
    "    \"BAUD\":{\n",
    "        \"0\":\"1200\",\n",
    "        \"1\":\"2400\",\n",
    "        \"2\":\"4800\",\n",
    "        \"3\":\"9600\",\n",
    "        \"4\":\"19200\",\n",
    "        \"5\":\"38400\",\n",
    "        \"6\":\"57600\",\n",
    "        \"7\":\"115200\"\n",
    "    },\n",
    "    \"AIR\":{\n",
    "        \"0\":\"0.3k\",\n",
    "        \"1\":\"1.2k\",\n",
    "        \"2\":\"2.4k\",\n",
    "        \"3\":\"4.8k\",\n",
    "        \"4\":\"9.6k\",\n",
    "        \"5\":\"19.2k\"\n",
    "    }\n",
    "}\n",
    "\n",
    "options = {\n",
    "    \"POWER\" : {\n",
    "        \"0\" : \"20dBm\",\n",
    "        \"1\" : \"17dBm\",\n",
    "        \"2\" : \"14dBm\",\n",
    "        \"3\" : \"11dBm\"\n",
    "    }\n",
    "}\n",
    "# print(str(cs))\n",
    "parity = speedData[\"PARITY\"][str(cs)]\n",
    "baud = speedData[\"BAUD\"][str(baud_rate)]\n",
    "air = speedData[\"AIR\"][str(air_speed)]\n",
    "print(option)\n",
    "power = options[\"POWER\"][str(option & 3)]\n",
    "print(f\"Address : {address}\\r\\nParity : {parity}\\r\\nUART Baud : {baud}\\r\\nAir Baud : {air}\")\n",
    "print(f\"Channel {chan}, {410 + chan}MHz\")\n",
    "print(f\"Power {power}\")\n",
    "# print(\"End\")\n",
    "ser.close()"
   ]
  },
  {
   "cell_type": "markdown",
   "metadata": {},
   "source": [
    "### Set Speed"
   ]
  },
  {
   "cell_type": "code",
   "execution_count": 59,
   "metadata": {},
   "outputs": [
    {
     "name": "stdout",
     "output_type": "stream",
     "text": [
      " 11010\n",
      "192\n",
      "0\n",
      "0\n",
      "29\n",
      "23\n",
      "64\n"
     ]
    }
   ],
   "source": [
    "from serial import *\n",
    "\n",
    "try:\n",
    "    ser = Serial(COM,timeout=1)\n",
    "except:\n",
    "    ser.close()\n",
    "    ser = Serial(COM,timeout=1)\n",
    "    print(\"Port Not Open\")\n",
    "# speed = 0b00\n",
    "# speed = (speed << 2) | (0b011)\n",
    "# speed = (speed << 3) | (0b101)\n",
    "print(f\"{speed : b}\")\n",
    "data = [0xC0,0x00,0x00,0b00011101,23,64]\n",
    "config = b''\n",
    "for i in data:\n",
    "    config += i.to_bytes(1,byteorder=\"big\")\n",
    "for i in config:\n",
    "    print(i)\n",
    "ser.write(config)\n",
    "ser.close()\n",
    "# data = 0xC1C1C1.to_bytes(3,byteorder=\"big\")"
   ]
  }
 ],
 "metadata": {
  "kernelspec": {
   "display_name": ".venv",
   "language": "python",
   "name": "python3"
  },
  "language_info": {
   "codemirror_mode": {
    "name": "ipython",
    "version": 3
   },
   "file_extension": ".py",
   "mimetype": "text/x-python",
   "name": "python",
   "nbconvert_exporter": "python",
   "pygments_lexer": "ipython3",
   "version": "3.10.8"
  }
 },
 "nbformat": 4,
 "nbformat_minor": 2
}
